{
 "cells": [
  {
   "cell_type": "markdown",
   "id": "fddcda65",
   "metadata": {
    "panel-layout": {
     "height": 60.616668701171875,
     "visible": true,
     "width": 100
    }
   },
   "source": [
    "# 📊 二進位購物資料探索任務"
   ]
  },
  {
   "cell_type": "code",
   "execution_count": null,
   "id": "c33edcf3",
   "metadata": {},
   "outputs": [],
   "source": [
    "import os\n",
    "import sys\n",
    "import platform\n",
    "import matplotlib.pyplot as plt\n",
    "import seaborn as sns\n",
    "import pandas as pd\n",
    "\n",
    "# ✅ 自動安裝與設定中文字型（適用 Colab 與本機）\n",
    "if 'COLAB_GPU' in os.environ:\n",
    "    # 專為 Google Colab 安裝中文字型\n",
    "    !apt-get -y install fonts-noto-cjk > /dev/null\n",
    "    plt.rcParams['font.family'] = 'Noto Sans CJK TC'\n",
    "else:\n",
    "    if platform.system() == 'Darwin':  # macOS\n",
    "        plt.rcParams['font.family'] = 'Heiti TC'\n",
    "    elif platform.system() == 'Windows':\n",
    "        plt.rcParams['font.family'] = ['Microsoft JhengHei', 'Verdana']\n",
    "\n",
    "# ✅ 修正負號顯示為亂碼\n",
    "plt.rcParams['axes.unicode_minus'] = False\n",
    "\n",
    "# 如果在 Colab 上自動下載 repo 並切換目錄\n",
    "if \"google.colab\" in sys.modules:\n",
    "    !git clone https://github.com/nouclass111270/binary-shopping-explorer.git\n",
    "    %cd binary-shopping-explorer\n",
    "\n",
    "# 設定檔案路徑\n",
    "file_path = os.path.join(\"data\", \"shopbi_explore3k.csv\")\n",
    "\n",
    "# 檢查檔案是否存在\n",
    "print(\"目前讀取資料的路徑為：\", os.path.abspath(file_path))\n",
    "if not os.path.exists(file_path):\n",
    "    raise FileNotFoundError(f\"❌ 找不到檔案：{file_path}\\n請確認 data 資料夾與檔案名稱是否正確\")\n",
    "\n",
    "# 載入資料\n",
    "# 資料來源為模擬的 3,000+ 筆購物記錄，包含顧客、商品、分類與購物步驟\n",
    "df = pd.read_csv(file_path, encoding='utf-8-sig')\n",
    "\n",
    "# 建立商品接續欄位 next_product（依 session_id 與 sequence_order 排序）\n",
    "df = df.sort_values(by=['session_id', 'sequence_order'])\n",
    "df['next_product'] = df.groupby('session_id')['product'].shift(-1)"
   ]
  },
  {
   "cell_type": "markdown",
   "id": "d2977b28",
   "metadata": {
    "panel-layout": {
     "height": 217.88333129882812,
     "visible": true,
     "width": 100
    }
   },
   "source": [
    "<details open>\n",
    "<summary><strong>📘 任務選單導航</strong></summary>\n",
    "\n",
    "歡迎來到二進位購物資料的探索世界！  \n",
    "以下是這份資料中可以進行的探索任務，歡迎選擇有興趣的項目進行分析：\n",
    "\n",
    "1. 🏎️ 各商品分類的購買次數  \n",
    "   — 統計各類商品的整體買氣，掌握熱銷類別的分布情形！\n",
    "\n",
    "2. 🏆 購買次數最多的商品前10名  \n",
    "   — 找出最常被選購的熱門商品，揭示人氣商品排行榜！\n",
    "\n",
    "3. 🔁 回購分析  \n",
    "   — 分析顧客對特定商品的重複購買行為，挖掘高黏著度商品與潛在忠誠偏好！\n",
    "\n",
    "4. 👤 哪位顧客最常買哪個商品  \n",
    "   — 探索顧客與商品的關聯，了解誰對哪些商品特別鍾情！\n",
    "\n",
    "5. 🕵️ 每次買物最常在第幾步買了什麼  \n",
    "   — 分析商品在購物流程中的出現位置，洞察決策時機與購買節奏！\n",
    "\n",
    "6. 🔗 前後商品搭配出現頻率  \n",
    "   — 檢視商品在購物順序中的搭配情形，找出常見的商品連動組合！\n",
    "\n",
    "7. 🌊 Sankey Diagram：商品流動地圖  \n",
    "   — 以 Sankey（桑基）圖視覺化商品在購物流程中的流動軌跡。\n",
    "\n",
    "8. 📘 建立顧客故事小檔案  \n",
    "   — 為每位顧客建立個人化的購物檔案，深入理解他們的消費風格與選擇邏輯。\n",
    "\n",
    "</details>"
   ]
  },
  {
   "cell_type": "markdown",
   "id": "a31aa7b7",
   "metadata": {
    "panel-layout": {
     "height": 50.850006103515625,
     "visible": true,
     "width": 100
    }
   },
   "source": [
    "## 1. 各商品分類的購買次數"
   ]
  },
  {
   "cell_type": "markdown",
   "id": "75a5ed9b-a5fa-4d70-acc5-053000994bbd",
   "metadata": {},
   "source": [
    "統計各類商品的整體買氣，掌握熱銷品類趨勢！"
   ]
  },
  {
   "cell_type": "code",
   "execution_count": null,
   "id": "ab2b97ae",
   "metadata": {
    "panel-layout": {
     "height": 730,
     "visible": true,
     "width": 100
    }
   },
   "outputs": [],
   "source": [
    "# 計算每個商品分類的購買次數\n",
    "category_counts = df['category'].value_counts()\n",
    "plt.figure(figsize=(8, 5))\n",
    "ax = sns.barplot(y=category_counts.index, x=category_counts.values, hue=category_counts.index, palette=\"Set2\", legend=False)\n",
    "\n",
    "# 為每個 bar 加上邊框與數值標籤\n",
    "for i, bar in enumerate(ax.patches):\n",
    "    bar.set_edgecolor(\"black\")\n",
    "    bar.set_linewidth(0.8)\n",
    "    width = bar.get_width()\n",
    "    ax.text(width - 3, bar.get_y() + bar.get_height() / 2,\n",
    "            f'{int(width)}', va='center', ha='right', fontsize=9, color='black', fontname='Verdana', weight='bold')\n",
    "\n",
    "plt.xlabel(\"購買次數\")\n",
    "plt.ylabel(\"商品分類\")\n",
    "plt.title(\"各商品分類的購買次數\", fontsize=14, weight='bold')\n",
    "plt.grid(axis='x', linestyle='--', alpha=0.3)\n",
    "plt.tight_layout()\n",
    "# plt.savefig(\"../charts/category_counts.png\")\n",
    "plt.show()"
   ]
  },
  {
   "cell_type": "markdown",
   "id": "8ae1fae9",
   "metadata": {
    "panel-layout": {
     "height": 50.850006103515625,
     "visible": true,
     "width": 100
    }
   },
   "source": [
    "## 2. 購買次數最多的商品（前 10 名）"
   ]
  },
  {
   "cell_type": "markdown",
   "id": "4d664c33-ad60-4d35-a697-a9e3421722fb",
   "metadata": {},
   "source": [
    "瞭解最常被購買的熱門商品，找出人氣王！"
   ]
  },
  {
   "cell_type": "code",
   "execution_count": null,
   "id": "c47e56a5",
   "metadata": {
    "panel-layout": {
     "height": 730,
     "visible": true,
     "width": 100
    }
   },
   "outputs": [],
   "source": [
    "# 取得前 10 名購買次數最多的商品\n",
    "product_counts = df['product'].value_counts().head(10)\n",
    "plt.figure(figsize=(9, 5))\n",
    "ax = sns.barplot(y=product_counts.index, x=product_counts.values, hue=product_counts.index, palette=\"Set3\", legend=False)\n",
    "\n",
    "# 為每個 bar 加上邊框與數值標籤\n",
    "for i, bar in enumerate(ax.patches):\n",
    "    bar.set_edgecolor(\"black\")\n",
    "    bar.set_linewidth(0.8)\n",
    "    width = bar.get_width()\n",
    "    ax.text(width - 3, bar.get_y() + bar.get_height() / 2,\n",
    "            f'{int(width)}', va='center', ha='right', fontsize=9, color='black', fontname='Verdana', weight='bold')\n",
    "\n",
    "plt.xlabel(\"購買次數\")\n",
    "plt.ylabel(\"商品名稱\")\n",
    "plt.title(\"購買次數最多的商品（前 10 名）\", fontsize=14, weight='bold')\n",
    "plt.grid(axis='x', linestyle='--', alpha=0.3)\n",
    "plt.tight_layout()\n",
    "# plt.savefig(\"../charts/top10_products.png\")\n",
    "plt.show()"
   ]
  },
  {
   "cell_type": "markdown",
   "id": "357870ee-2153-47eb-9010-e4c48b8c532c",
   "metadata": {
    "panel-layout": {
     "height": 50.850006103515625,
     "visible": true,
     "width": 100
    }
   },
   "source": [
    "## 3. 回購分析"
   ]
  },
  {
   "cell_type": "markdown",
   "id": "bedf8afe-5ff5-4efb-81ec-9674aee37639",
   "metadata": {},
   "source": [
    "找出顧客重複購買的商品，掌握高黏著度商品與偏好傾向！"
   ]
  },
  {
   "cell_type": "code",
   "execution_count": null,
   "id": "7c9276bc-8c36-431d-a61c-69376e48dd87",
   "metadata": {},
   "outputs": [],
   "source": [
    "# 分析顧客對同一商品的回購次數\n",
    "repurchase = (\n",
    "    df.groupby(['customer_name', 'product'])\n",
    "    .size()\n",
    "    .reset_index(name='total_count')\n",
    ")\n",
    "\n",
    "repurchase = repurchase[repurchase['total_count'] > 1].copy()\n",
    "repurchase['repurchase_count'] = repurchase['total_count'] - 1\n",
    "\n",
    "repurchase = repurchase.sort_values(by='repurchase_count', ascending=False)\n",
    "repurchase.head(10).reset_index(drop=True)"
   ]
  },
  {
   "cell_type": "markdown",
   "id": "95a6b9b3-bed0-4db1-9a0d-1bfadf51408e",
   "metadata": {
    "panel-layout": {
     "height": 50.850006103515625,
     "visible": true,
     "width": 100
    }
   },
   "source": [
    "## 4. 哪位顧客最常買哪個商品"
   ]
  },
  {
   "cell_type": "markdown",
   "id": "8b960920-99a6-4a54-adcf-da3103d86438",
   "metadata": {},
   "source": [
    "探索顧客的購買偏好，了解誰對哪個商品最熱愛！"
   ]
  },
  {
   "cell_type": "code",
   "execution_count": null,
   "id": "53dfc316-473c-431a-b608-e09fb6f95158",
   "metadata": {
    "panel-layout": {
     "height": 1047.566650390625,
     "visible": true,
     "width": 100
    }
   },
   "outputs": [],
   "source": [
    "# 找出每位顧客購買次數最多的商品\n",
    "customer_top_products = df.groupby(['customer_name', 'product']).size().reset_index(name='count')  # 顧客與商品的購買次數統計\n",
    "customer_top1 = customer_top_products.sort_values(['customer_name', 'count'], ascending=[True, False])  # 對每位顧客依購買次數排序\n",
    "customer_top1 = customer_top1.groupby('customer_name').head(1).reset_index(drop=True)  # 每位顧客取出購買次數最多的一項\n",
    "customer_top1 = customer_top1.sort_values(by='count', ascending=False).reset_index(drop=True)  # 對結果依照購買次數再次排序\n",
    "customer_top1.head(10)  # 顯示前 10 筆結果"
   ]
  },
  {
   "cell_type": "markdown",
   "id": "29b101af-311c-4f2e-a8c1-f27a8f71253c",
   "metadata": {
    "panel-layout": {
     "height": 50.850006103515625,
     "visible": true,
     "width": 100
    }
   },
   "source": [
    "## 5. 每次購物最常在第幾步買了什麼"
   ]
  },
  {
   "cell_type": "markdown",
   "id": "e889051b-64a9-4486-8b1f-a6eaa6a0935a",
   "metadata": {},
   "source": [
    "觀察購物流程中最常出現的關鍵商品與時機點！"
   ]
  },
  {
   "cell_type": "code",
   "execution_count": null,
   "id": "041063f5-a265-4bdb-ab91-f75b777afae7",
   "metadata": {},
   "outputs": [],
   "source": [
    "# 找出每個購物步驟中出現次數最多的所有商品（即使有同分）\n",
    "step_counts = (\n",
    "    df.groupby(['sequence_order', 'product'])  # 依照購物步驟（sequence_order）與商品名稱（product）分組\n",
    "    .size()  # 計算每組的出現次數，即在該步驟中該商品被購買的次數\n",
    "    .reset_index(name='count')  # 將計算結果轉為 DataFrame，並命名為 'count'\n",
    ")\n",
    "\n",
    "# 對於每一個購物步驟，找出該步驟中最高的出現次數\n",
    "max_per_step = step_counts.groupby('sequence_order')['count'].transform('max')\n",
    "\n",
    "# 篩選出那些等於最高次數的商品（可能有多個）\n",
    "top_by_step = step_counts[step_counts['count'] == max_per_step].reset_index(drop=True)\n",
    "\n",
    "# 顯示每個購物步驟中最常被購買的商品\n",
    "top_by_step"
   ]
  },
  {
   "cell_type": "code",
   "execution_count": null,
   "id": "dc67ec30-bd6e-4d7f-bacd-f89277737912",
   "metadata": {},
   "outputs": [],
   "source": [
    "# 列出所有在第１步驟出現的商品及其出現次數\n",
    "df[df['sequence_order'] == 1]['product'].value_counts()"
   ]
  },
  {
   "cell_type": "markdown",
   "id": "78cbfdca-a141-46be-84b2-fb4992b93e2d",
   "metadata": {
    "panel-layout": {
     "height": 60.616668701171875,
     "visible": true,
     "width": 100
    }
   },
   "source": [
    "# 視覺化：每個購物步驟中最常購買的商品"
   ]
  },
  {
   "cell_type": "code",
   "execution_count": null,
   "id": "dcb0c179-6323-40fb-b304-aff5d6a80b6d",
   "metadata": {
    "panel-layout": {
     "height": 730,
     "visible": true,
     "width": 100
    }
   },
   "outputs": [],
   "source": [
    "# 視覺化購物步驟與熱門商品對應關係\n",
    "plt.figure(figsize=(9, 5))\n",
    "ax = sns.barplot(data=top_by_step, x='sequence_order', y='count', hue='product', dodge=False, palette='Set1')\n",
    "\n",
    "for bar in ax.patches:\n",
    "    height = bar.get_height()\n",
    "    ax.text(bar.get_x() + bar.get_width() / 2, height - 1,\n",
    "            f'{int(height)}', ha='center', va='top', fontsize=9,\n",
    "            color='white', fontname='Verdana', weight='bold')\n",
    "\n",
    "plt.xlabel(\"購物步驟（sequence_order）\")\n",
    "plt.ylabel(\"購買次數\")\n",
    "plt.title(\"每次購物最常在第幾步買了什麼\", fontsize=14, weight='bold')\n",
    "plt.grid(axis='y', linestyle='--', alpha=0.3)\n",
    "plt.tight_layout()\n",
    "# plt.savefig(\"../charts/most_bought_by_step.png\")\n",
    "plt.show()"
   ]
  },
  {
   "cell_type": "code",
   "execution_count": null,
   "id": "ac9043ef-6e11-4e6c-9d1a-25e5f1705e0a",
   "metadata": {
    "panel-layout": {
     "height": 730,
     "visible": true,
     "width": 100
    }
   },
   "outputs": [],
   "source": [
    "# 額外交叉分析：在第三步購買牛奶餅乾的不同顧客數量\n",
    "buyers_step3_snack = df[(df['sequence_order'] == 3) & (df['product'] == '牛奶餅乾')]['customer_name'].nunique()\n",
    "print(\"在第 3 步購買牛奶餅乾的不同顧客數量：\", buyers_step3_snack)"
   ]
  },
  {
   "cell_type": "markdown",
   "id": "f627e39e-0633-4e96-9569-d0790c7ca0d2",
   "metadata": {
    "panel-layout": {
     "height": 50.850006103515625,
     "visible": true,
     "width": 100
    }
   },
   "source": [
    "## 6. 前後商品搭配出現頻率"
   ]
  },
  {
   "cell_type": "markdown",
   "id": "4eecbafa-462b-4d82-8b9d-539fea284d9d",
   "metadata": {
    "panel-layout": {
     "height": 51.15000915527344,
     "visible": true,
     "width": 100
    }
   },
   "source": [
    "分析購物行為中商品的前後搭配模式，找出高頻出現的商品組合！"
   ]
  },
  {
   "cell_type": "code",
   "execution_count": null,
   "id": "94f354ac-5e89-41cc-95aa-6a6761302b78",
   "metadata": {},
   "outputs": [],
   "source": [
    "# 🔗 前後商品搭配出現頻率（長條圖視覺化）\n",
    "\n",
    "import warnings\n",
    "warnings.simplefilter(action='ignore', category=FutureWarning)  # 忽略 FutureWarning 警告\n",
    "\n",
    "# 過濾掉前後為相同商品的紀錄（避免自我搭配）\n",
    "filtered_df = df[df['product'] != df['next_product']]\n",
    "\n",
    "# 計算前後商品搭配的出現次數\n",
    "pair_counts = (\n",
    "    filtered_df.groupby(['product', 'next_product'])\n",
    "    .size()\n",
    "    .reset_index(name='count')\n",
    ")\n",
    "\n",
    "# 取出前 10 組最常見的商品搭配\n",
    "top_pairs = pair_counts.sort_values(by='count', ascending=False).head(10)\n",
    "\n",
    "top_pairs['pair'] = top_pairs['product'] + ' → ' + top_pairs['next_product']  # 建立易讀的商品組合標籤欄位\n",
    "\n",
    "# 繪製長條圖\n",
    "plt.figure(figsize=(10, 6))\n",
    "ax = sns.barplot(x='count', y='pair', data=top_pairs, palette='viridis')\n",
    "\n",
    "# 顯示每個長條圖右側的數字\n",
    "for bar in ax.patches:\n",
    "    width = bar.get_width()\n",
    "    y = bar.get_y() + bar.get_height() / 2\n",
    "    ax.text(width + 0.1, y, f'{int(width)}',  # 將數值標籤稍微向右側移動，避免與長條重疊\n",
    "            va='center', ha='left', fontsize=10, fontweight='bold', color='#FF2800', fontname='Verdana')\n",
    "\n",
    "# 設定標題與座標軸標籤\n",
    "plt.xlabel(\"搭配出現次數\")\n",
    "plt.ylabel(\"商品組合\")\n",
    "plt.title(\"最常見的前後商品搭配組合（前10名）\")\n",
    "\n",
    "# 儲存圖檔\n",
    "plt.tight_layout()\n",
    "# plt.savefig(\"../charts/product_pairings.png\")\n",
    "\n",
    "# 顯示圖表\n",
    "plt.show()"
   ]
  },
  {
   "cell_type": "markdown",
   "id": "b718c759-3a75-449a-b2b4-d4178123e0ba",
   "metadata": {
    "panel-layout": {
     "height": 50.850006103515625,
     "visible": true,
     "width": 100
    }
   },
   "source": [
    "## 7. Sankey Diagram：商品流動地圖"
   ]
  },
  {
   "cell_type": "markdown",
   "id": "5d782cea-bd96-4c42-b85a-e6d9d969f00e",
   "metadata": {
    "panel-layout": {
     "height": 51.15000915527344,
     "visible": true,
     "width": 100
    }
   },
   "source": [
    "以 Sankey（桑基）圖視覺化商品在不同購物步驟間的流動情形。"
   ]
  },
  {
   "cell_type": "code",
   "execution_count": null,
   "id": "4cc8383c-c3b9-4b32-b6a1-19896a4d0009",
   "metadata": {},
   "outputs": [],
   "source": [
    "import plotly.graph_objects as go\n",
    "\n",
    "# 取出商品流動對（來源商品與下一商品）\n",
    "sorted_df = df.sort_values(['session_id', 'sequence_order'])\n",
    "sorted_df['next_product'] = sorted_df.groupby('session_id')['product'].shift(-1)\n",
    "flow = sorted_df.dropna(subset=['next_product'])\n",
    "flow = flow[flow['product'] != flow['next_product']]  # 🔍 排除自我搭配（如保溫瓶 ➝ 保溫瓶）\n",
    "\n",
    "# 統計流動次數\n",
    "flow_pairs = flow.groupby(['product', 'next_product']).size().reset_index(name='count')\n",
    "top_flows = flow_pairs.sort_values(by='count', ascending=False).head(20)\n",
    "\n",
    "# 建立節點\n",
    "all_products = list(pd.unique(top_flows[['product', 'next_product']].values.ravel()))\n",
    "product_indices = {product: i for i, product in enumerate(all_products)}\n",
    "\n",
    "# 建立 Sankey 圖資料\n",
    "sankey_data = go.Sankey(\n",
    "    node=dict(\n",
    "        pad=15,\n",
    "        thickness=20,\n",
    "        line=dict(color=\"black\", width=0.5),\n",
    "        label=all_products\n",
    "    ),\n",
    "    link=dict(\n",
    "        source=[product_indices[p] for p in top_flows['product']],\n",
    "        target=[product_indices[p] for p in top_flows['next_product']],\n",
    "        value=top_flows['count']\n",
    "    )\n",
    ")\n",
    "\n",
    "# 繪製 Sankey 圖\n",
    "fig = go.Figure(data=[sankey_data])\n",
    "fig.update_layout(title_text=\"商品流動地圖（前 20 組）\", font_size=10)\n",
    "fig.show()\n"
   ]
  },
  {
   "cell_type": "code",
   "execution_count": null,
   "id": "619e9e38-5328-4e23-b901-14c709b74c84",
   "metadata": {},
   "outputs": [],
   "source": [
    "# 進階：聚焦特定商品的流向（以牛奶餅乾為例）\n",
    "target_product = \"牛奶餅乾\"\n",
    "session_data = df.sort_values(['session_id', 'sequence_order'])\n",
    "\n",
    "# 篩選出包含目標商品的購物場次\n",
    "target_sessions = session_data[session_data['product'] == target_product]['session_id'].unique()\n",
    "target_flow = session_data[session_data['session_id'].isin(target_sessions)]\n",
    "\n",
    "# 產生前後配對關係\n",
    "flow_pairs = target_flow.groupby('session_id')['product'].apply(lambda x: list(zip(x[:-1], x[1:]))).explode()\n",
    "flow_counts = flow_pairs.value_counts().reset_index()\n",
    "flow_counts.columns = ['pair', 'count']\n",
    "flow_counts[['source', 'target']] = pd.DataFrame(flow_counts['pair'].tolist(), index=flow_counts.index)\n",
    "\n",
    "# 準備 sankey 所需欄位\n",
    "flow_summary = flow_counts[['source', 'target', 'count']]\n",
    "flow_summary.head(10)"
   ]
  },
  {
   "cell_type": "code",
   "execution_count": null,
   "id": "19f6370e-4bf9-430b-b651-b53f05405359",
   "metadata": {},
   "outputs": [],
   "source": [
    "import plotly.graph_objects as go\n",
    "\n",
    "# 進階：聚焦特定商品的流向（以牛奶餅乾為例）\n",
    "target_product = \"牛奶餅乾\"\n",
    "session_data = df.sort_values(['session_id', 'sequence_order'])\n",
    "\n",
    "# 篩選出包含目標商品的購物場次\n",
    "target_sessions = session_data[session_data['product'] == target_product]['session_id'].unique()\n",
    "target_flow = session_data[session_data['session_id'].isin(target_sessions)]\n",
    "\n",
    "# 產生前後配對關係\n",
    "flow_pairs = target_flow.groupby('session_id')['product'].apply(lambda x: list(zip(x[:-1], x[1:]))).explode()\n",
    "flow_counts = flow_pairs.value_counts().reset_index()\n",
    "flow_counts.columns = ['pair', 'count']\n",
    "flow_counts[['source', 'target']] = pd.DataFrame(flow_counts['pair'].tolist(), index=flow_counts.index)\n",
    "\n",
    "# 整理節點與編號\n",
    "labels = pd.unique(flow_counts[['source', 'target']].values.ravel()).tolist()\n",
    "label_index = {label: i for i, label in enumerate(labels)}\n",
    "\n",
    "# 建立 Sankey 圖所需欄位\n",
    "data = go.Sankey(\n",
    "    node=dict(\n",
    "        pad=15,\n",
    "        thickness=20,\n",
    "        line=dict(color=\"black\", width=0.5),\n",
    "        label=labels,\n",
    "        color=\"lightblue\"\n",
    "    ),\n",
    "    link=dict(\n",
    "        source=[label_index[s] for s in flow_counts['source']],\n",
    "        target=[label_index[t] for t in flow_counts['target']],\n",
    "        value=flow_counts['count']\n",
    "    )\n",
    ")\n",
    "\n",
    "# 畫圖\n",
    "fig = go.Figure(data)\n",
    "fig.update_layout(title_text=\"牛奶餅乾相關商品流向圖（Sankey Diagram）\", font=dict(size=12))\n",
    "fig.show()"
   ]
  },
  {
   "cell_type": "markdown",
   "id": "522c327e-f4ba-453f-94a9-8cdca57d2d0a",
   "metadata": {
    "panel-layout": {
     "height": 50.850006103515625,
     "visible": true,
     "width": 100
    }
   },
   "source": [
    "## 8. 建立顧客故事小檔案"
   ]
  },
  {
   "cell_type": "markdown",
   "id": "3c44e25a-454b-40b0-adfa-97295a1b12b0",
   "metadata": {
    "panel-layout": {
     "height": 51.15000915527344,
     "visible": true,
     "width": 100
    }
   },
   "source": [
    "為每位顧客建立個人化的購物檔案，洞察他們的偏好與行為特徵。"
   ]
  },
  {
   "cell_type": "code",
   "execution_count": null,
   "id": "5ab731dc-774b-4c05-bbfa-dba3f57859df",
   "metadata": {},
   "outputs": [],
   "source": [
    "# 產出小美的購物紀錄摘要\n",
    "df[df[\"customer_name\"] == \"小美\"].groupby(\"product\")[\"product\"].count().sort_values(ascending=False)"
   ]
  },
  {
   "cell_type": "code",
   "execution_count": null,
   "id": "961ae40c-b932-4673-927d-177c7614e8e4",
   "metadata": {},
   "outputs": [],
   "source": [
    "# 1. 小美的所有紀錄\n",
    "xiaomei = df[df[\"customer_name\"] == \"小美\"]\n",
    "\n",
    "# 2. 購物次數（session_id 不重複）\n",
    "shopping_sessions = xiaomei[\"session_id\"].nunique()\n",
    "print(\"購物次數：\", shopping_sessions)\n",
    "\n",
    "# 3. 總購買數量（總筆數）\n",
    "total_items = xiaomei.shape[0]\n",
    "print(\"總購買數量：\", total_items)\n",
    "\n",
    "# 4. 回購商品（只計算首次購買後再次出現的次數）\n",
    "product_counts = xiaomei[\"product\"].value_counts()\n",
    "repurchase_items = (product_counts[product_counts > 1] - 1).astype(int)  # 扣除第一次購買\n",
    "print(\"\\n回購商品：\")\n",
    "print(repurchase_items)\n"
   ]
  },
  {
   "cell_type": "markdown",
   "id": "25c4cdea-f1b2-4bac-8a0e-78c25c1f6c44",
   "metadata": {},
   "source": [
    "### 👧 顧客故事小檔案：「小美」\n",
    "\n",
    "📌 **基本軌跡**  \n",
    "- 🛒 購物次數：274 次  \n",
    "- 📦 總購買數量：280 件商品  \n",
    "- 💡 回購商品：泡麵 (30 次)、果汁飲料 (25 次)、洗髮精 (25 次)、無糖紅茶 (21 次)、女用短襪 (20 次)、保溫瓶 (20 次)、護手霜 (19 次)、牛奶餅乾 (17 次)、牙刷組 (14 次)、男用短襪 (13 次)、洗手慕絲 (13 次)、洗衣精 (13 次)、螢光筆組 (12 次)、筆記本 (10 次)、無線滑鼠 (9 次)、快充行動電源 (8 次)、自動鉛筆 (7 次)、充電線 (4 次)\n",
    "\n",
    "📊 **買物習性深探**  \n",
    "- ⏱️ 最常在第 2 步做出購買決定\n",
    "\n",
    "📝 **顧客行為敘述**  \n",
    "小美是一位極具生活感的顧客，她的購物記錄像是一張日常生活的地圖。從三餐所需的泡麵與果汁飲料，到自我照護的洗髮精與護手霜，甚至還有辦公桌上的筆記本與螢光筆組，每一項商品都是她生活片段的縮影。\n",
    "\n",
    "她常在購物的第二步就快速做出選擇，展現出她對日常所需的清晰認知與效率風格。雖然她回購最多的是泡麵與果汁飲料，但從其他商品的多樣性也可以看出她是個勇於嘗試、重視品質與便利性的消費者。\n",
    "\n",
    "她的風格屬於「多元探索型」，在各種商品之間游刃有餘，既重視實用，也不失生活品味。若要為她設計推薦機制，搭配型商品組合與體驗式新品，可能最能吸引她的目光與點擊。"
   ]
  },
  {
   "cell_type": "code",
   "execution_count": null,
   "id": "8de9dfc9-7000-4e8c-9f8d-7d341fa7c770",
   "metadata": {},
   "outputs": [],
   "source": [
    "def create_customer_summary(name):\n",
    "    data = df[df['customer_name'] == name]  # 篩選指定顧客的資料\n",
    "    total_sessions = data['session_id'].nunique()  # 計算購物場次\n",
    "    total_items = data.shape[0]  # 計算總購買數量\n",
    "\n",
    "    # 商品購買次數統計並排除首次購買\n",
    "    product_counts = data['product'].value_counts()\n",
    "    repurchases = (product_counts[product_counts > 1] - 1).astype(int)  # 回購次數 = 總次數 - 第一次購買\n",
    "\n",
    "    top_step = (\n",
    "        data['sequence_order']\n",
    "        .value_counts()\n",
    "        .sort_values(ascending=False)\n",
    "        .index[0]  # 找出最常出現的購物步驟\n",
    "    )\n",
    "\n",
    "    print(f\"📌 基本軌跡\\n- 購物次數：{total_sessions} 次\")\n",
    "    print(f\"- 總購買數量：{total_items} 件商品\")\n",
    "    if repurchases.empty:\n",
    "        print(\"- 回購商品：無\")\n",
    "    else:\n",
    "        repurchase_str = \"、\".join([f\"{prod}（{cnt} 次）\" for prod, cnt in repurchases.items()])\n",
    "        print(f\"- 回購商品：{repurchase_str}\")\n",
    "\n",
    "    print(f\"\\n📊 買物習性深探\\n- 最常出現在第 {top_step} 步買商品\")\n",
    "    print(f\"\\n📝 顧客行為描述\\n{name} 是個個性鮮明的顧客，接下來可以進一步探索她的購物邏輯與偏好商品喔！\")\n",
    "\n",
    "# 示範使用\n",
    "create_customer_summary(\"小美\")"
   ]
  },
  {
   "cell_type": "code",
   "execution_count": null,
   "id": "a25ca86e-06e9-494f-b42c-f5d0e1fefd7d",
   "metadata": {},
   "outputs": [],
   "source": [
    "# 建立顧客故事小檔案的分析函式\n",
    "\n",
    "def create_customer_summary(name):\n",
    "    data = df[df['customer_name'] == name]  # 篩選指定顧客的資料\n",
    "    total_sessions = data['session_id'].nunique()  # 計算購物場次\n",
    "    total_items = data.shape[0]  # 計算總購買數量\n",
    "\n",
    "    # 商品購買次數統計並排除第一次\n",
    "    top_products = data['product'].value_counts()\n",
    "    repurchases = (top_products[top_products > 1] - 1).astype(int)  # 回購次數 = 總次數 - 1\n",
    "\n",
    "    top_step = (\n",
    "        data['sequence_order']\n",
    "        .value_counts()\n",
    "        .sort_values(ascending=False)\n",
    "        .index[0]  # 找出最常出現的購物步驟\n",
    "    )\n",
    "\n",
    "    print(f\"📌 基本軌跡\\n- 購物次數：{total_sessions} 次\")\n",
    "    print(f\"- 總購買數量：{total_items} 件商品\")\n",
    "    if repurchases.empty:\n",
    "        print(\"- 回購商品：無\")\n",
    "    else:\n",
    "        repurchase_str = \"、\".join([f\"{prod}（{cnt} 次）\" for prod, cnt in repurchases.items()])\n",
    "        print(f\"- 回購商品：{repurchase_str}\")\n",
    "\n",
    "    print(f\"\\n📊 買物習性深探\\n- 最常出現在第 {top_step} 步買商品\")\n",
    "\n",
    "    # 自動歸類敘述\n",
    "    categories = data['category'].value_counts()\n",
    "    if not categories.empty:\n",
    "        top_cat = categories.idxmax()\n",
    "        if top_cat in ['保健', '日常用品', '食品']:\n",
    "            style = \"日常實用型\"\n",
    "        elif top_cat in ['3C產品', '數位周邊']:\n",
    "            style = \"科技導向型\"\n",
    "        elif top_cat in ['美容保養', '個人清潔']:\n",
    "            style = \"自我照護型\"\n",
    "        else:\n",
    "            style = \"多元探索型\"\n",
    "        print(f\"\\n📝 顧客行為描述\\n{name} 展現出「{style}」的購物風格，值得深入了解其偏好與決策模式！\")\n",
    "    else:\n",
    "        print(f\"\\n📝 顧客行為描述\\n{name} 是個個性鮮明的顧客，接下來可以進一步探索她的購物邏輯與偏好商品喔！\")\n",
    "\n",
    "# 示範使用\n",
    "create_customer_summary(\"小美\")"
   ]
  },
  {
   "cell_type": "markdown",
   "id": "036c7238",
   "metadata": {
    "panel-layout": {
     "height": 50.850006103515625,
     "visible": true,
     "width": 100
    }
   },
   "source": [
    "## 🔍 資料簡要總覽"
   ]
  },
  {
   "cell_type": "code",
   "execution_count": null,
   "id": "c632e04f-8cb9-4844-a9b5-b7c3d868bb57",
   "metadata": {},
   "outputs": [],
   "source": [
    "print(\"資料筆數與欄位數：\", df.shape)  # 顯示資料的列數與欄位數\n",
    "print(df.info())  # 顯示每個欄位的型別與非空值數量\n",
    "\n",
    "# 顯示每位顧客的購物場次數量（用 session_id 去重計算）\n",
    "print(\"\\n各顧客購物場次統計：\")\n",
    "print(df.groupby(\"customer_name\")[\"session_id\"].nunique())\n",
    "\n",
    "# 顯示每位顧客購買商品的總次數（不管是哪次購物）\n",
    "print(\"\\n各顧客總購買數量：\")\n",
    "print(df[\"customer_name\"].value_counts())"
   ]
  },
  {
   "cell_type": "code",
   "execution_count": null,
   "id": "11b83d58-e5b1-49b2-8aee-399fb6995949",
   "metadata": {},
   "outputs": [],
   "source": []
  }
 ],
 "metadata": {
  "kernelspec": {
   "display_name": "Python [conda env:base] *",
   "language": "python",
   "name": "conda-base-py"
  },
  "language_info": {
   "codemirror_mode": {
    "name": "ipython",
    "version": 3
   },
   "file_extension": ".py",
   "mimetype": "text/x-python",
   "name": "python",
   "nbconvert_exporter": "python",
   "pygments_lexer": "ipython3",
   "version": "3.12.7"
  },
  "panel-cell-order": [
   "fddcda65",
   "d2977b28",
   "a31aa7b7",
   "ab2b97ae",
   "8ae1fae9",
   "c47e56a5",
   "357870ee-2153-47eb-9010-e4c48b8c532c",
   "1a6727ab-99de-4256-ace3-0686f82ba76b",
   "95a6b9b3-bed0-4db1-9a0d-1bfadf51408e",
   "53dfc316-473c-431a-b608-e09fb6f95158",
   "29b101af-311c-4f2e-a8c1-f27a8f71253c",
   "f9a88ec2-8883-4a4c-b696-671b9d9e1fc0",
   "78cbfdca-a141-46be-84b2-fb4992b93e2d",
   "dcb0c179-6323-40fb-b304-aff5d6a80b6d",
   "ac9043ef-6e11-4e6c-9d1a-25e5f1705e0a",
   "f627e39e-0633-4e96-9569-d0790c7ca0d2",
   "4eecbafa-462b-4d82-8b9d-539fea284d9d",
   "b718c759-3a75-449a-b2b4-d4178123e0ba",
   "5d782cea-bd96-4c42-b85a-e6d9d969f00e",
   "522c327e-f4ba-453f-94a9-8cdca57d2d0a",
   "3c44e25a-454b-40b0-adfa-97295a1b12b0",
   "036c7238",
   "49eae261"
  ]
 },
 "nbformat": 4,
 "nbformat_minor": 5
}
